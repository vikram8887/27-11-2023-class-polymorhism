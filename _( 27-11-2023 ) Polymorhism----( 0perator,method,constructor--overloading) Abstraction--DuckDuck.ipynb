{
 "cells": [
  {
   "cell_type": "markdown",
   "id": "7acb62c2",
   "metadata": {},
   "source": [
    "## Polymorphism :"
   ]
  },
  {
   "cell_type": "markdown",
   "id": "0c81e887",
   "metadata": {},
   "source": [
    "* poly - many\n",
    "\n",
    "*---> overloading :\n",
    "\n",
    "* method overloading (vanilla python dosent support this)\n",
    "\n",
    "* constructor overloading (vanilla python doesn't supports this)\n",
    "\n",
    "* operator overloading\n",
    "\n",
    "*---> overriding :\n",
    "\n",
    "* method overriding\n",
    "* constructor overriding"
   ]
  },
  {
   "cell_type": "markdown",
   "id": "fe66d409",
   "metadata": {},
   "source": [
    "CONSTRUCTOR OVERRIDING : That means the sub class constructor is replacing the super class constructor. This is called constructor overriding . Similarly in the sub class, if we write a method with exactly same name as that of super class method, it will override the super class method. This is called method overriding ."
   ]
  },
  {
   "cell_type": "code",
   "execution_count": 2,
   "id": "75bc0dcc",
   "metadata": {},
   "outputs": [],
   "source": [
    "class fooClass:\n",
    "    def __int__(self, a, b):\n",
    "        self.a = a\n",
    "        self.b = b\n",
    "        \n",
    "    def __init__(self, a, b, c, d):\n",
    "            self.m = a+b\n",
    "            self.n = c+d\n",
    "            \n",
    "    def foo(self):\n",
    "            print('Hello')\n",
    "            \n",
    "    def foo(self):\n",
    "            print('Good Morning')"
   ]
  },
  {
   "cell_type": "code",
   "execution_count": 7,
   "id": "c52792f2",
   "metadata": {},
   "outputs": [],
   "source": [
    "x= fooClass(5,10,15,20)"
   ]
  },
  {
   "cell_type": "code",
   "execution_count": 8,
   "id": "49852c01",
   "metadata": {},
   "outputs": [
    {
     "name": "stdout",
     "output_type": "stream",
     "text": [
      "Good Morning\n"
     ]
    }
   ],
   "source": [
    "x.foo()"
   ]
  },
  {
   "cell_type": "code",
   "execution_count": 16,
   "id": "5a2bc65e",
   "metadata": {},
   "outputs": [],
   "source": [
    "class Xclass(fooClass):\n",
    "    def foo(self):\n",
    "        print('varun!')"
   ]
  },
  {
   "cell_type": "code",
   "execution_count": 19,
   "id": "63e98278",
   "metadata": {},
   "outputs": [],
   "source": [
    "x =Xclass(10,5,15,20)"
   ]
  },
  {
   "cell_type": "code",
   "execution_count": 20,
   "id": "7b852e36",
   "metadata": {},
   "outputs": [
    {
     "name": "stdout",
     "output_type": "stream",
     "text": [
      "varun!\n"
     ]
    }
   ],
   "source": [
    "x.foo()"
   ]
  },
  {
   "cell_type": "code",
   "execution_count": 26,
   "id": "a1c42f17",
   "metadata": {},
   "outputs": [],
   "source": [
    "class FooClass:\n",
    "    def __init__(self,a,b):\n",
    "        self.a = a\n",
    "        self.b = b\n",
    "    def foo(self):\n",
    "        print('Hello')\n",
    "    \n",
    "    def foo(self):\n",
    "        print('Good Morning')"
   ]
  },
  {
   "cell_type": "code",
   "execution_count": 28,
   "id": "06ddaf4a",
   "metadata": {},
   "outputs": [],
   "source": [
    "obj1 =fooClass(3,5,6,7)"
   ]
  },
  {
   "cell_type": "code",
   "execution_count": 29,
   "id": "04521e30",
   "metadata": {},
   "outputs": [
    {
     "name": "stdout",
     "output_type": "stream",
     "text": [
      "Good Morning\n"
     ]
    }
   ],
   "source": [
    "obj1.foo()"
   ]
  },
  {
   "cell_type": "markdown",
   "id": "24a52afb",
   "metadata": {},
   "source": [
    "### Operator Overloading"
   ]
  },
  {
   "cell_type": "markdown",
   "id": "b5ee32ad",
   "metadata": {},
   "source": [
    "1. OPERATOR OVERLOADING : Operator Overloading means giving extended meaning beyond their predefined operational meaning. For example operator + is used to add two integers as well as join two strings and merge two lists. It is achievable because '+' operator is overloaded by int class and str class."
   ]
  },
  {
   "cell_type": "code",
   "execution_count": 17,
   "id": "deb5384a",
   "metadata": {},
   "outputs": [],
   "source": [
    "class MyList:\n",
    "    def __init__(self, value):\n",
    "        self.var = value\n",
    "        \n",
    "    def __mul__(self, otherMyList):\n",
    "        return [i*j for i, j in zip(self.var,otherMyList.var)]"
   ]
  },
  {
   "cell_type": "code",
   "execution_count": 18,
   "id": "c0c06246",
   "metadata": {},
   "outputs": [],
   "source": [
    "x, y = MyList([1, 2, 3]), MyList([4, 5, 6])"
   ]
  },
  {
   "cell_type": "code",
   "execution_count": 19,
   "id": "a0c419e3",
   "metadata": {},
   "outputs": [
    {
     "data": {
      "text/plain": [
       "[4, 10, 18]"
      ]
     },
     "execution_count": 19,
     "metadata": {},
     "output_type": "execute_result"
    }
   ],
   "source": [
    "x * y"
   ]
  },
  {
   "cell_type": "code",
   "execution_count": 32,
   "id": "9e0d2385",
   "metadata": {},
   "outputs": [],
   "source": [
    "import multipledispatch"
   ]
  },
  {
   "cell_type": "code",
   "execution_count": 57,
   "id": "1c5605ea",
   "metadata": {},
   "outputs": [],
   "source": [
    "import multipledispatch"
   ]
  },
  {
   "cell_type": "code",
   "execution_count": 33,
   "id": "0458ed7c",
   "metadata": {},
   "outputs": [],
   "source": [
    "from multipledispatch import dispatch"
   ]
  },
  {
   "cell_type": "code",
   "execution_count": 59,
   "id": "3f9532e0",
   "metadata": {},
   "outputs": [],
   "source": [
    "class MyClass:\n",
    "    \n",
    "    def __init__(self, q, b):\n",
    "        self.a = a\n",
    "        self.b = b\n",
    "        \n",
    "    @dispatch(int, int)\n",
    "    def foo(self, x, y):\n",
    "        return x* y\n",
    "    \n",
    "    @dispatch(set, set)\n",
    "    def foo(self, m, n):\n",
    "        return X - y\n",
    "    \n",
    "    @dispatch(str, str)\n",
    "    def foo(self , m, n):\n",
    "        return m+n\n",
    "    \n",
    "    @dispatch(int, int, int)\n",
    "    def foo(self , m, n, b):\n",
    "        return \n",
    "    \n",
    "    "
   ]
  },
  {
   "cell_type": "code",
   "execution_count": 34,
   "id": "586fe160",
   "metadata": {},
   "outputs": [
    {
     "ename": "NameError",
     "evalue": "name 'MyClass' is not defined",
     "output_type": "error",
     "traceback": [
      "\u001b[1;31m---------------------------------------------------------------------------\u001b[0m",
      "\u001b[1;31mNameError\u001b[0m                                 Traceback (most recent call last)",
      "Cell \u001b[1;32mIn[34], line 1\u001b[0m\n\u001b[1;32m----> 1\u001b[0m x\u001b[38;5;241m=\u001b[39mMyClass({\u001b[38;5;241m1\u001b[39m,\u001b[38;5;241m2\u001b[39m},{\u001b[38;5;241m3\u001b[39m,\u001b[38;5;241m4\u001b[39m})\n",
      "\u001b[1;31mNameError\u001b[0m: name 'MyClass' is not defined"
     ]
    }
   ],
   "source": [
    "x=MyClass({1,2},{3,4})"
   ]
  },
  {
   "cell_type": "code",
   "execution_count": 35,
   "id": "b1de10a1",
   "metadata": {},
   "outputs": [],
   "source": [
    "class Myclass:\n",
    "    def __init__(self,a,b):\n",
    "        self.a=a\n",
    "        self.b=b\n",
    "    def Foo(self,x,y):\n",
    "        return x + y"
   ]
  },
  {
   "cell_type": "code",
   "execution_count": 37,
   "id": "19a178fa",
   "metadata": {},
   "outputs": [
    {
     "data": {
      "text/plain": [
       "[1, 2, 3, 4, 9, 8, 7, 6]"
      ]
     },
     "execution_count": 37,
     "metadata": {},
     "output_type": "execute_result"
    }
   ],
   "source": [
    "[1, 2, 3, 4]+[9, 8, 7, 6]"
   ]
  },
  {
   "cell_type": "markdown",
   "id": "d6db123d",
   "metadata": {},
   "source": [
    "### method overloading:"
   ]
  },
  {
   "cell_type": "markdown",
   "id": "d3a37229",
   "metadata": {},
   "source": [
    "2. method overloading:Two or more methods have the same name but different numbers of parameters or different types of parameters, or both. These methods are called overloaded methods and this is called method overloading."
   ]
  },
  {
   "cell_type": "code",
   "execution_count": 39,
   "id": "713b266a",
   "metadata": {},
   "outputs": [],
   "source": [
    "class Myclass:\n",
    "    def __init__(self,a,b):\n",
    "        self.a=a\n",
    "        self.b=b\n",
    "    @dispatch(int,int)\n",
    "    def Foo(self,x,y):\n",
    "        return x + y\n",
    "    \n",
    "    @dispatch(set,set)\n",
    "    def Foo(self,m,n):\n",
    "        return m.union(n)\n",
    "    \n",
    "    @dispatch(str,str)\n",
    "    def Foo(self,m,n):\n",
    "        return m+n\n",
    "    \n",
    "    @dispatch(int,int,int)\n",
    "    def Foo(self,m,n,o):\n",
    "        return (m*n)//o\n",
    "    \n",
    "    "
   ]
  },
  {
   "cell_type": "code",
   "execution_count": 40,
   "id": "f62dbb92",
   "metadata": {},
   "outputs": [],
   "source": [
    "x=Myclass(5,10)"
   ]
  },
  {
   "cell_type": "code",
   "execution_count": 41,
   "id": "191f534f",
   "metadata": {},
   "outputs": [
    {
     "data": {
      "text/plain": [
       "5"
      ]
     },
     "execution_count": 41,
     "metadata": {},
     "output_type": "execute_result"
    }
   ],
   "source": [
    "x.Foo(2,3)"
   ]
  },
  {
   "cell_type": "code",
   "execution_count": 42,
   "id": "2622506b",
   "metadata": {},
   "outputs": [
    {
     "data": {
      "text/plain": [
       "{1, 2, 3, 4, 5, 6}"
      ]
     },
     "execution_count": 42,
     "metadata": {},
     "output_type": "execute_result"
    }
   ],
   "source": [
    "x.Foo({1,2,3},{4,5,6,1,2})"
   ]
  },
  {
   "cell_type": "code",
   "execution_count": 43,
   "id": "80898d41",
   "metadata": {},
   "outputs": [
    {
     "data": {
      "text/plain": [
       "0"
      ]
     },
     "execution_count": 43,
     "metadata": {},
     "output_type": "execute_result"
    }
   ],
   "source": [
    "x.Foo(1,2,3)"
   ]
  },
  {
   "cell_type": "code",
   "execution_count": 44,
   "id": "670fc9be",
   "metadata": {},
   "outputs": [
    {
     "data": {
      "text/plain": [
       "'varunbunny'"
      ]
     },
     "execution_count": 44,
     "metadata": {},
     "output_type": "execute_result"
    }
   ],
   "source": [
    "x.Foo(\"varun\",'bunny')"
   ]
  },
  {
   "cell_type": "markdown",
   "id": "bf221611",
   "metadata": {},
   "source": [
    "### CONSTRUCTOR OVERLOADING:"
   ]
  },
  {
   "cell_type": "markdown",
   "id": "814ca44b",
   "metadata": {},
   "source": [
    "3. CONSTRUCTOR OVERLOADING:Python does not support constructor overloading. If you try to overload the constructor, the last implementation will be executed each time. Any previous implementation will be over-written by the latest one."
   ]
  },
  {
   "cell_type": "code",
   "execution_count": 46,
   "id": "c27f6a40",
   "metadata": {},
   "outputs": [],
   "source": [
    "class MyClass:\n",
    "    @dispatch(int,int)\n",
    "    def __init__(self,a,b):\n",
    "        self.x = a*b\n",
    "    @dispatch(str,str)\n",
    "    def __init__(self,fname,lname):\n",
    "        self.name = fname +' '+lname"
   ]
  },
  {
   "cell_type": "code",
   "execution_count": 49,
   "id": "8be4a262",
   "metadata": {},
   "outputs": [],
   "source": [
    "obj1 = MyClass(11,5)"
   ]
  },
  {
   "cell_type": "code",
   "execution_count": 55,
   "id": "c9d5ff1c",
   "metadata": {},
   "outputs": [
    {
     "data": {
      "text/plain": [
       "55"
      ]
     },
     "execution_count": 55,
     "metadata": {},
     "output_type": "execute_result"
    }
   ],
   "source": [
    "obj1.x"
   ]
  },
  {
   "cell_type": "code",
   "execution_count": 52,
   "id": "53f65a2d",
   "metadata": {},
   "outputs": [],
   "source": [
    "obj2 = MyClass('bunny','varun')"
   ]
  },
  {
   "cell_type": "code",
   "execution_count": 56,
   "id": "57d35e1d",
   "metadata": {},
   "outputs": [
    {
     "data": {
      "text/plain": [
       "'bunny varun'"
      ]
     },
     "execution_count": 56,
     "metadata": {},
     "output_type": "execute_result"
    }
   ],
   "source": [
    "obj2.name"
   ]
  },
  {
   "cell_type": "code",
   "execution_count": null,
   "id": "fb9d8482",
   "metadata": {},
   "outputs": [],
   "source": [
    "class Myclass:\n",
    "    @dispatch(int,int)\n",
    "    def __init__(self,a,b):\n",
    "        self.x = a*b\n",
    "    @dispatch(str,str)\n",
    "    def __init__(self,fname,lname):\n",
    "        self.name = fname +' '+lname\n",
    "        \n",
    "    @dispatch(int,int)\n",
    "    def Foo(self,x,y):\n",
    "        return x + y\n",
    "    \n",
    "    @dispatch(set,set)\n",
    "    def Foo(self,m,n):\n",
    "        return m.union(n)\n",
    "    \n",
    "    @dispatch(str,str)\n",
    "    def Foo(self,m,n):\n",
    "        return m+n\n",
    "    \n",
    "    @dispatch(int,int,int)\n",
    "    def Foo(self,m,n,o):\n",
    "        return (m*n)//o\n",
    "    "
   ]
  },
  {
   "cell_type": "code",
   "execution_count": 57,
   "id": "7a6c779b",
   "metadata": {},
   "outputs": [],
   "source": [
    "class Child(Myclass):\n",
    "    pass"
   ]
  },
  {
   "cell_type": "code",
   "execution_count": 58,
   "id": "6a87575e",
   "metadata": {},
   "outputs": [],
   "source": [
    "x= Child(5,2)"
   ]
  },
  {
   "cell_type": "code",
   "execution_count": 59,
   "id": "9331d191",
   "metadata": {},
   "outputs": [],
   "source": [
    "x=Child('abc','xyz')"
   ]
  },
  {
   "cell_type": "code",
   "execution_count": 62,
   "id": "1e1f7663",
   "metadata": {},
   "outputs": [
    {
     "ename": "AttributeError",
     "evalue": "'Child' object has no attribute 'name'",
     "output_type": "error",
     "traceback": [
      "\u001b[1;31m---------------------------------------------------------------------------\u001b[0m",
      "\u001b[1;31mAttributeError\u001b[0m                            Traceback (most recent call last)",
      "Cell \u001b[1;32mIn[62], line 1\u001b[0m\n\u001b[1;32m----> 1\u001b[0m x\u001b[38;5;241m.\u001b[39mname\n",
      "\u001b[1;31mAttributeError\u001b[0m: 'Child' object has no attribute 'name'"
     ]
    }
   ],
   "source": [
    "x.name"
   ]
  },
  {
   "cell_type": "code",
   "execution_count": null,
   "id": "5ef0fc6d",
   "metadata": {},
   "outputs": [],
   "source": []
  },
  {
   "cell_type": "code",
   "execution_count": null,
   "id": "ea5c32c4",
   "metadata": {},
   "outputs": [],
   "source": []
  },
  {
   "cell_type": "markdown",
   "id": "6dd869c8",
   "metadata": {},
   "source": [
    "### Abstraction"
   ]
  },
  {
   "cell_type": "markdown",
   "id": "1a6e7d2a",
   "metadata": {},
   "source": [
    "ABSTRACTION: Abstraction in python is defined as a process of handling complexity by hiding unnecessary information from the user."
   ]
  },
  {
   "cell_type": "code",
   "execution_count": 74,
   "id": "95ac82ce",
   "metadata": {},
   "outputs": [],
   "source": [
    "import abc\n",
    " "
   ]
  },
  {
   "cell_type": "code",
   "execution_count": 75,
   "id": "93b26c65",
   "metadata": {},
   "outputs": [],
   "source": [
    "from abc import abstractmethod, ABC "
   ]
  },
  {
   "cell_type": "code",
   "execution_count": 76,
   "id": "c1214f48",
   "metadata": {},
   "outputs": [
    {
     "ename": "NameError",
     "evalue": "name 'abstractclassmethod' is not defined",
     "output_type": "error",
     "traceback": [
      "\u001b[1;31m---------------------------------------------------------------------------\u001b[0m",
      "\u001b[1;31mNameError\u001b[0m                                 Traceback (most recent call last)",
      "Cell \u001b[1;32mIn[76], line 1\u001b[0m\n\u001b[1;32m----> 1\u001b[0m \u001b[38;5;28;01mclass\u001b[39;00m \u001b[38;5;21;01mBen10\u001b[39;00m(ABC):\u001b[38;5;66;03m#abstract instance method\u001b[39;00m\n\u001b[0;32m      2\u001b[0m     \u001b[38;5;129m@abstractclassmethod\u001b[39m \n\u001b[0;32m      3\u001b[0m     \u001b[38;5;28;01mdef\u001b[39;00m \u001b[38;5;21momniTransformation\u001b[39m(\u001b[38;5;28mself\u001b[39m):\n\u001b[0;32m      4\u001b[0m \u001b[38;5;250m        \u001b[39m\u001b[38;5;124;03m''' Yo!'''\u001b[39;00m\n",
      "Cell \u001b[1;32mIn[76], line 2\u001b[0m, in \u001b[0;36mBen10\u001b[1;34m()\u001b[0m\n\u001b[0;32m      1\u001b[0m \u001b[38;5;28;01mclass\u001b[39;00m \u001b[38;5;21;01mBen10\u001b[39;00m(ABC):\u001b[38;5;66;03m#abstract instance method\u001b[39;00m\n\u001b[1;32m----> 2\u001b[0m     \u001b[38;5;129m@abstractclassmethod\u001b[39m \n\u001b[0;32m      3\u001b[0m     \u001b[38;5;28;01mdef\u001b[39;00m \u001b[38;5;21momniTransformation\u001b[39m(\u001b[38;5;28mself\u001b[39m):\n\u001b[0;32m      4\u001b[0m \u001b[38;5;250m        \u001b[39m\u001b[38;5;124;03m''' Yo!'''\u001b[39;00m\n\u001b[0;32m      5\u001b[0m         \u001b[38;5;28;01mpass\u001b[39;00m\n",
      "\u001b[1;31mNameError\u001b[0m: name 'abstractclassmethod' is not defined"
     ]
    }
   ],
   "source": [
    "class Ben10(ABC):#abstract instance method\n",
    "    @abstractclassmethod \n",
    "    def omniTransformation(self):\n",
    "        ''' Yo!'''\n",
    "        pass"
   ]
  },
  {
   "cell_type": "code",
   "execution_count": null,
   "id": "a2868bf7",
   "metadata": {},
   "outputs": [],
   "source": []
  },
  {
   "cell_type": "code",
   "execution_count": 77,
   "id": "dd2aa704",
   "metadata": {},
   "outputs": [
    {
     "ename": "SyntaxError",
     "evalue": "invalid syntax (1142814128.py, line 1)",
     "output_type": "error",
     "traceback": [
      "\u001b[1;36m  Cell \u001b[1;32mIn[77], line 1\u001b[1;36m\u001b[0m\n\u001b[1;33m    Class Ben10(ABC):\u001b[0m\n\u001b[1;37m          ^\u001b[0m\n\u001b[1;31mSyntaxError\u001b[0m\u001b[1;31m:\u001b[0m invalid syntax\n"
     ]
    }
   ],
   "source": [
    "Class Ben10(ABC):\n",
    "    @abstractmethod\n",
    "    def omniTransformation(self):\n",
    "        '''vol'''\n",
    "        pass"
   ]
  },
  {
   "cell_type": "code",
   "execution_count": null,
   "id": "cecc0a17",
   "metadata": {},
   "outputs": [],
   "source": []
  },
  {
   "cell_type": "code",
   "execution_count": null,
   "id": "3a2f302f",
   "metadata": {},
   "outputs": [],
   "source": []
  },
  {
   "cell_type": "code",
   "execution_count": null,
   "id": "72f94256",
   "metadata": {},
   "outputs": [],
   "source": []
  },
  {
   "cell_type": "markdown",
   "id": "192ef613",
   "metadata": {},
   "source": [
    "### DuckDuck"
   ]
  },
  {
   "cell_type": "markdown",
   "id": "a9b7ab23",
   "metadata": {},
   "source": [
    "DUCK TYPING :The name comes from the phrase, “If it walks like a duck and it quacks like a duck, then it must be a duck.” Duck typing is related to dynamic typing, where the type of the class of an object is going to be less important than the methods that it defines."
   ]
  },
  {
   "cell_type": "markdown",
   "id": "567114e7",
   "metadata": {},
   "source": [
    "Duck Typing is a way of programming in which an object passed into a function or method supports all method signatures and attributes expected of that object at run time. The object's type itself is not important. Rather, the object should support all methods/attributes called on it."
   ]
  },
  {
   "cell_type": "code",
   "execution_count": null,
   "id": "6378554c",
   "metadata": {},
   "outputs": [],
   "source": []
  },
  {
   "cell_type": "code",
   "execution_count": 86,
   "id": "947c390a",
   "metadata": {},
   "outputs": [],
   "source": [
    "class Duck:\n",
    "    def quack(self):\n",
    "        print('quaack!')\n",
    "    def fly(self):\n",
    "        print('Flap-Flap!')\n",
    "        \n",
    "class DogDuck:\n",
    "    def quack(self):\n",
    "        print('Bowuaack!')\n",
    "    def fly(self):\n",
    "        print('zoommm')"
   ]
  },
  {
   "cell_type": "code",
   "execution_count": 91,
   "id": "17dd48fd",
   "metadata": {},
   "outputs": [],
   "source": [
    "def foo(x:Duck):\n",
    "    x.quack()"
   ]
  },
  {
   "cell_type": "code",
   "execution_count": 92,
   "id": "de267cd7",
   "metadata": {},
   "outputs": [],
   "source": [
    "a,b = Duck(),DogDuck()"
   ]
  },
  {
   "cell_type": "code",
   "execution_count": 93,
   "id": "9cfbcc51",
   "metadata": {},
   "outputs": [
    {
     "name": "stdout",
     "output_type": "stream",
     "text": [
      "quaack!\n"
     ]
    }
   ],
   "source": [
    "foo(a)"
   ]
  },
  {
   "cell_type": "code",
   "execution_count": 94,
   "id": "617146d4",
   "metadata": {},
   "outputs": [
    {
     "name": "stdout",
     "output_type": "stream",
     "text": [
      "Bowuaack!\n"
     ]
    }
   ],
   "source": [
    "foo(b)"
   ]
  },
  {
   "cell_type": "code",
   "execution_count": null,
   "id": "fa874799",
   "metadata": {},
   "outputs": [],
   "source": []
  }
 ],
 "metadata": {
  "kernelspec": {
   "display_name": "Python 3 (ipykernel)",
   "language": "python",
   "name": "python3"
  },
  "language_info": {
   "codemirror_mode": {
    "name": "ipython",
    "version": 3
   },
   "file_extension": ".py",
   "mimetype": "text/x-python",
   "name": "python",
   "nbconvert_exporter": "python",
   "pygments_lexer": "ipython3",
   "version": "3.11.5"
  }
 },
 "nbformat": 4,
 "nbformat_minor": 5
}
